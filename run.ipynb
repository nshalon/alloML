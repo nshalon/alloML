{
 "cells": [
  {
   "cell_type": "code",
   "execution_count": 162,
   "id": "continuous-cradle",
   "metadata": {},
   "outputs": [],
   "source": [
    "import pandas as pd\n",
    "import numpy as np\n",
    "from sklearn.linear_model import HuberRegressor\n",
    "from sklearn.linear_model import Ridge\n",
    "import random"
   ]
  },
  {
   "cell_type": "code",
   "execution_count": 224,
   "id": "derived-produce",
   "metadata": {},
   "outputs": [],
   "source": [
    "def get_train_test(path, split_perc=0.25, label_col=\"Horizontal_Distance_To_Fire_Points\", id_col=\"ID\"):\n",
    "    data = pd.read_csv(path)\n",
    "    data = data.drop([id_col], axis=1)\n",
    "    # extract labels\n",
    "    data_labels = data[[label_col]].to_numpy()\n",
    "    # drop labels from features\n",
    "    data_features = data.drop([label_col], axis=1).to_numpy()\n",
    "    \n",
    "    return split_data(data_features, data_labels, split_perc)"
   ]
  },
  {
   "cell_type": "code",
   "execution_count": 225,
   "id": "prescribed-movie",
   "metadata": {},
   "outputs": [],
   "source": [
    "def split_data(x, y, split_perc):\n",
    "    n = x.shape[0]\n",
    "    num_test = int(split_perc * n)\n",
    "    test_inds = list(np.random.choice(np.arange(n), num_test))\n",
    "    train_inds = np.random.choice(np.arange(n), num_test)\n",
    "    test_inds = np.setdiff1d(np.arange(n), test_inds)\n",
    "    train_x = x[train_inds, :]\n",
    "    train_y = np.reshape(y[train_inds], (len(train_inds),))\n",
    "    test_x = x[test_inds, :]\n",
    "    test_y = np.reshape(y[test_inds], (len(test_inds),))\n",
    "    \n",
    "    return train_x, train_y, test_x, test_y"
   ]
  },
  {
   "cell_type": "code",
   "execution_count": 226,
   "id": "elegant-kelly",
   "metadata": {},
   "outputs": [],
   "source": [
    "def get_loss(y_hat, y):\n",
    "    return (np.linalg.norm(np.array(y_hat) - np.array(y)) ** 2) / len(y)"
   ]
  },
  {
   "cell_type": "code",
   "execution_count": 227,
   "id": "chubby-august",
   "metadata": {},
   "outputs": [],
   "source": [
    "def ridge(train_x, train_y, test_x,\n",
    "                alpha=1.0, normalize=True):\n",
    "    # define model\n",
    "    model = Ridge(alpha=alpha, normalize=normalize)\n",
    "    model.fit(train_x, train_y)\n",
    "    y_hat = model.predict(test_x)\n",
    "    return y_hat"
   ]
  },
  {
   "cell_type": "code",
   "execution_count": 228,
   "id": "secret-gates",
   "metadata": {},
   "outputs": [],
   "source": [
    "def huber(train_x, train_y, test_x, test_y,\n",
    "                   epsilon=1.35, max_iter=1e3, normalize=True):\n",
    "        # define model\n",
    "    model = HuberRegressor(epsilon=epsilon, max_iter=max_iter)\n",
    "    model.fit(train_x, train_y)\n",
    "    y_hat = model.predict(test_x)\n",
    "    return y_hat"
   ]
  },
  {
   "cell_type": "code",
   "execution_count": 229,
   "id": "developed-mixture",
   "metadata": {},
   "outputs": [],
   "source": [
    "train_x, train_y, test_x, test_y = get_train_test(\"/Users/nitan/Documents/Junior Classes/517/projects/milestone1/data/train.csv\")"
   ]
  },
  {
   "cell_type": "code",
   "execution_count": 230,
   "id": "clinical-timothy",
   "metadata": {},
   "outputs": [],
   "source": [
    "losses = []\n",
    "for alpha in [0.001, 0.005, 0.01, 0.05, 0.1, 0.2, 0.5, 0.75, 1.0, 1.25, 1.5, 2.0, 2.5, 3.0]:\n",
    "    losses.append(get_loss(ridge(train_x, train_y.ravel(), test_x, alpha=alpha), test_y.ravel()))"
   ]
  },
  {
   "cell_type": "code",
   "execution_count": null,
   "id": "blessed-delicious",
   "metadata": {},
   "outputs": [],
   "source": []
  }
 ],
 "metadata": {
  "kernelspec": {
   "display_name": "Python 3",
   "language": "python",
   "name": "python3"
  },
  "language_info": {
   "codemirror_mode": {
    "name": "ipython",
    "version": 3
   },
   "file_extension": ".py",
   "mimetype": "text/x-python",
   "name": "python",
   "nbconvert_exporter": "python",
   "pygments_lexer": "ipython3",
   "version": "3.6.12"
  }
 },
 "nbformat": 4,
 "nbformat_minor": 5
}
