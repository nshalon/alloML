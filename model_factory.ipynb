{
 "cells": [
  {
   "cell_type": "code",
   "execution_count": 19,
   "id": "welcome-reward",
   "metadata": {},
   "outputs": [],
   "source": [
    "import numpy as np\n",
    "from sklearn.linear_model import LogisticRegression\n",
    "from sklearn.linear_model import Ridge\n",
    "from sklearn.linear_model import HuberRegressor"
   ]
  },
  {
   "cell_type": "code",
   "execution_count": 34,
   "id": "narrative-potato",
   "metadata": {},
   "outputs": [],
   "source": [
    "# def get_loss(y_hat, y):\n",
    "#     return np.norm(np.array(y_hat) - np.array(y)) ** 2"
   ]
  },
  {
   "cell_type": "code",
   "execution_count": 35,
   "id": "ready-container",
   "metadata": {},
   "outputs": [],
   "source": [
    "def logistic(train_x, train_y, test_x, test_y, \n",
    "                penalty=\"l2\", max_iter=100, verbose=False):\n",
    "    \n",
    "    # define model\n",
    "    model = LogisticRegression(penalty=penalty, max_iter=max_iter, verbose=verbose)\n",
    "    \n",
    "    model.fit(train_x, train_y)\n",
    "    \n",
    "    y_hat = model.predict(test_x)\n",
    "    \n",
    "#     return get_loss(y_hat, test_y)\n",
    "    return y_hat"
   ]
  },
  {
   "cell_type": "code",
   "execution_count": 30,
   "id": "eligible-acceptance",
   "metadata": {},
   "outputs": [],
   "source": [
    "def ridge(train_x, train_y, test_x, test_y, \n",
    "                alpha=1.0):\n",
    "    # define model\n",
    "    model = Ridge(alpha=alpha)\n",
    "    model.fit(train_x, train_y)\n",
    "    y_hat = model.predict(test_x)\n",
    "    return get_loss(y_hat, test_y)"
   ]
  },
  {
   "cell_type": "code",
   "execution_count": 36,
   "id": "related-bermuda",
   "metadata": {},
   "outputs": [],
   "source": [
    "def huber(train_x, train_y, test_x, test_y,\n",
    "                   epsilon=1.35, max_iter=1e3):\n",
    "        # define model\n",
    "    model = HuberRegressor(epsilon=epsilon, max_iter=max_iter)\n",
    "    model.fit(train_x, train_y)\n",
    "    y_hat = model.predict(test_x)\n",
    "    return y_hat"
   ]
  },
  {
   "cell_type": "code",
   "execution_count": null,
   "id": "acoustic-freeze",
   "metadata": {},
   "outputs": [],
   "source": []
  },
  {
   "cell_type": "code",
   "execution_count": null,
   "id": "technological-wheel",
   "metadata": {},
   "outputs": [],
   "source": []
  }
 ],
 "metadata": {
  "kernelspec": {
   "display_name": "Python 3",
   "language": "python",
   "name": "python3"
  },
  "language_info": {
   "codemirror_mode": {
    "name": "ipython",
    "version": 3
   },
   "file_extension": ".py",
   "mimetype": "text/x-python",
   "name": "python",
   "nbconvert_exporter": "python",
   "pygments_lexer": "ipython3",
   "version": "3.6.12"
  }
 },
 "nbformat": 4,
 "nbformat_minor": 5
}
