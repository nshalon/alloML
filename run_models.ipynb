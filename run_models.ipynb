{
 "cells": [
  {
   "cell_type": "code",
   "execution_count": 1,
   "metadata": {
    "_cell_guid": "b1076dfc-b9ad-4769-8c92-a6c4dae69d19",
    "_uuid": "8f2839f25d086af736a60e9eeb907d3b93b6e0e5",
    "execution": {
     "iopub.execute_input": "2021-02-23T00:30:59.822865Z",
     "iopub.status.busy": "2021-02-23T00:30:59.822107Z",
     "iopub.status.idle": "2021-02-23T00:30:59.826535Z",
     "shell.execute_reply": "2021-02-23T00:30:59.825714Z"
    },
    "papermill": {
     "duration": 0.023556,
     "end_time": "2021-02-23T00:30:59.826801",
     "exception": false,
     "start_time": "2021-02-23T00:30:59.803245",
     "status": "completed"
    },
    "tags": []
   },
   "outputs": [],
   "source": [
    "# nitanshalon, nitanshalon@wustl.edu, Shalon, Nitan\n",
    "# k.sherman, k.sherman@wustl.edu, Sherman, Kenneth\n",
    "# choij, jdc6@wustl.edu, Choi, Jason\n",
    "# jdecavel-bueff, d.jonathan@wustl.edu, Decavel-Bueff, Jonathan"
   ]
  },
  {
   "cell_type": "code",
   "execution_count": 2,
   "metadata": {
    "execution": {
     "iopub.execute_input": "2021-02-23T00:30:59.856828Z",
     "iopub.status.busy": "2021-02-23T00:30:59.856114Z",
     "iopub.status.idle": "2021-02-23T00:31:01.104189Z",
     "shell.execute_reply": "2021-02-23T00:31:01.102792Z"
    },
    "papermill": {
     "duration": 1.26541,
     "end_time": "2021-02-23T00:31:01.104383",
     "exception": false,
     "start_time": "2021-02-23T00:30:59.838973",
     "status": "completed"
    },
    "tags": []
   },
   "outputs": [],
   "source": [
    "import pandas as pd\n",
    "import numpy as np\n",
    "from sklearn import preprocessing\n",
    "from sklearn.linear_model import HuberRegressor\n",
    "from sklearn.linear_model import Ridge\n",
    "import random\n",
    "import matplotlib.pyplot as plt\n",
    "import os"
   ]
  },
  {
   "cell_type": "code",
   "execution_count": 3,
   "metadata": {
    "execution": {
     "iopub.execute_input": "2021-02-23T00:31:01.139365Z",
     "iopub.status.busy": "2021-02-23T00:31:01.138316Z",
     "iopub.status.idle": "2021-02-23T00:31:01.144108Z",
     "shell.execute_reply": "2021-02-23T00:31:01.143222Z"
    },
    "papermill": {
     "duration": 0.027913,
     "end_time": "2021-02-23T00:31:01.144299",
     "exception": false,
     "start_time": "2021-02-23T00:31:01.116386",
     "status": "completed"
    },
    "tags": []
   },
   "outputs": [],
   "source": [
    "# Perform the major preprocessing of the data, function\n",
    "# depends on data task (e.g. train split, train final, test)\n",
    "#\n",
    "# INPUTS\n",
    "# path: path to the csv reading in\n",
    "# split_perc: fraction of the data goes to the test set\n",
    "# label_col: column name of the value we're predicting\n",
    "# id_col: id column to drop from features\n",
    "# categorical: column name to one-hot encode (two nested features in the number string)\n",
    "# normalize: normalize the data (T/F) -- not necessary if normalizing through scikitlearn models\n",
    "# train: training data (T/F) -- does the data have labels?\n",
    "# split: split data (T/F) -- are we training our final model?\n",
    "#\n",
    "# OUTPUTS\n",
    "# x: always returned\n",
    "# y: returned when training\n",
    "# test_x: returned when validating models (split==T)\n",
    "# test_y: returned when validating models (split==T)\n",
    "\n",
    "def get_train_test(path, split_perc=0.25, label_col=\"Horizontal_Distance_To_Fire_Points\", id_col=\"ID\", \n",
    "                   categorical=\"Soil_Type\", normalize=False, train=True, split=True):\n",
    "    data = pd.read_csv(path) # read in data\n",
    "    data = data.drop([id_col], axis=1) # drop the id column in the training so that it's not a feature\n",
    "    climate_type_transform = onehot_encode(data[categorical], idx=0) # one-hot encode the climate feature in the data\n",
    "    soil_type_transform = onehot_encode(data[categorical], idx=1) # one-hot encode the soiltype feature in the data\n",
    "    if train: # only extract labels if we're on a training set\n",
    "        data_labels = data[[label_col]].to_numpy() # extract labels\n",
    "        drop_cols = [categorical, label_col] # columns to drop if on train set\n",
    "    else:\n",
    "        drop_cols = [categorical] # columns to drop if on test set\n",
    "    data = data.drop(drop_cols, axis=1) # drop the categorical and labels so we can normalize the data\n",
    "    \n",
    "    if normalize:\n",
    "        data = normalize_data(data)\n",
    "        \n",
    "    data = append_to_data(data, climate_type_transform, colname=\"climate\") # return the augmented df with the one-hot encoding for soil type\n",
    "    data = append_to_data(data, soil_type_transform, colname=\"soiltype\")\n",
    "    if train and split:\n",
    "        return split_data(data.values, data_labels, split_perc) # if training (validating) then split the data\n",
    "    elif not split:\n",
    "        return data.values, data_labels # if training but getting the model to test, then don't split so we can use all the data to train\n",
    "    else:\n",
    "        return data.values # if testing then don't split the data and just return features"
   ]
  },
  {
   "cell_type": "code",
   "execution_count": 4,
   "metadata": {
    "execution": {
     "iopub.execute_input": "2021-02-23T00:31:01.175671Z",
     "iopub.status.busy": "2021-02-23T00:31:01.174785Z",
     "iopub.status.idle": "2021-02-23T00:31:01.178501Z",
     "shell.execute_reply": "2021-02-23T00:31:01.177789Z"
    },
    "papermill": {
     "duration": 0.021419,
     "end_time": "2021-02-23T00:31:01.178681",
     "exception": false,
     "start_time": "2021-02-23T00:31:01.157262",
     "status": "completed"
    },
    "tags": []
   },
   "outputs": [],
   "source": [
    "def normalize_data(data):\n",
    "    scaler = preprocessing.MinMaxScaler()\n",
    "    return pd.DataFrame(scaler.fit_transform(data.to_numpy()))"
   ]
  },
  {
   "cell_type": "code",
   "execution_count": 5,
   "metadata": {
    "execution": {
     "iopub.execute_input": "2021-02-23T00:31:01.207510Z",
     "iopub.status.busy": "2021-02-23T00:31:01.206447Z",
     "iopub.status.idle": "2021-02-23T00:31:01.215079Z",
     "shell.execute_reply": "2021-02-23T00:31:01.215641Z"
    },
    "papermill": {
     "duration": 0.024882,
     "end_time": "2021-02-23T00:31:01.215887",
     "exception": false,
     "start_time": "2021-02-23T00:31:01.191005",
     "status": "completed"
    },
    "tags": []
   },
   "outputs": [],
   "source": [
    "def onehot_encode(data, idx):\n",
    "    soil_types = set() # set of unique soil types based on first two ints of the soil_type column\n",
    "    for ele in data:\n",
    "        soil_types.add(str(ele)[idx])\n",
    "    soil_types_arr = np.array(list(soil_types))\n",
    "    print(\"data len %s ; index %s ; number of data type %s\" % (len(data), idx, len(soil_types)))\n",
    "    onehots = np.zeros(shape=(len(data), len(soil_types))) # initialize the one-hot encoding for the soil type as a matrix of zeroes\n",
    "    for data_ind, val in enumerate(data): # iterate through the data\n",
    "        soil_type_ind = np.argwhere(soil_types_arr == str(val)[idx]) # match the data soiltype to the soil index in the feature array\n",
    "        onehots[data_ind, soil_type_ind] = 1 # change the position of the corresponding soil type to a 1 for the specific data point \n",
    "    return onehots"
   ]
  },
  {
   "cell_type": "code",
   "execution_count": 6,
   "metadata": {
    "execution": {
     "iopub.execute_input": "2021-02-23T00:31:01.245532Z",
     "iopub.status.busy": "2021-02-23T00:31:01.244417Z",
     "iopub.status.idle": "2021-02-23T00:31:01.250492Z",
     "shell.execute_reply": "2021-02-23T00:31:01.251269Z"
    },
    "papermill": {
     "duration": 0.022954,
     "end_time": "2021-02-23T00:31:01.251507",
     "exception": false,
     "start_time": "2021-02-23T00:31:01.228553",
     "status": "completed"
    },
    "tags": []
   },
   "outputs": [],
   "source": [
    "# modulate the data so a column corresponds to the one-hot \n",
    "# encoding of the categorical feature passed in \n",
    "def append_to_data(data, onehots, colname):\n",
    "    for typecount in range(onehots.shape[1]):\n",
    "        typecount_colname = \"%s=%s\" % (colname, typecount)\n",
    "        data[typecount_colname] = onehots[:, typecount]\n",
    "    return data"
   ]
  },
  {
   "cell_type": "code",
   "execution_count": 7,
   "metadata": {
    "execution": {
     "iopub.execute_input": "2021-02-23T00:31:01.281263Z",
     "iopub.status.busy": "2021-02-23T00:31:01.280183Z",
     "iopub.status.idle": "2021-02-23T00:31:01.288124Z",
     "shell.execute_reply": "2021-02-23T00:31:01.288684Z"
    },
    "papermill": {
     "duration": 0.024636,
     "end_time": "2021-02-23T00:31:01.288934",
     "exception": false,
     "start_time": "2021-02-23T00:31:01.264298",
     "status": "completed"
    },
    "tags": []
   },
   "outputs": [],
   "source": [
    "# split the data, assining (split_perc)% of the data to the test set\n",
    "def split_data(x, y, split_perc):\n",
    "    n = x.shape[0]\n",
    "    num_test = int(split_perc * n)\n",
    "    test_inds = np.random.choice(np.arange(n), num_test)\n",
    "    train_inds = np.setdiff1d(np.arange(n), test_inds)\n",
    "    train_x = x[train_inds, :]\n",
    "    train_y = np.reshape(y[train_inds], (len(train_inds),))\n",
    "    test_x = x[test_inds, :]\n",
    "    test_y = np.reshape(y[test_inds], (len(test_inds),))\n",
    "    \n",
    "    return train_x, train_y, test_x, test_y"
   ]
  },
  {
   "cell_type": "code",
   "execution_count": 8,
   "metadata": {
    "execution": {
     "iopub.execute_input": "2021-02-23T00:31:01.319225Z",
     "iopub.status.busy": "2021-02-23T00:31:01.318178Z",
     "iopub.status.idle": "2021-02-23T00:31:01.323490Z",
     "shell.execute_reply": "2021-02-23T00:31:01.323974Z"
    },
    "papermill": {
     "duration": 0.022243,
     "end_time": "2021-02-23T00:31:01.324186",
     "exception": false,
     "start_time": "2021-02-23T00:31:01.301943",
     "status": "completed"
    },
    "tags": []
   },
   "outputs": [],
   "source": [
    "# return RMSE\n",
    "def get_loss(y_hat, y):\n",
    "    return np.sqrt(np.sum(((np.array(y_hat) - np.array(y)) ** 2) / len(y)))"
   ]
  },
  {
   "cell_type": "code",
   "execution_count": 9,
   "metadata": {
    "execution": {
     "iopub.execute_input": "2021-02-23T00:31:01.353686Z",
     "iopub.status.busy": "2021-02-23T00:31:01.352556Z",
     "iopub.status.idle": "2021-02-23T00:31:01.358561Z",
     "shell.execute_reply": "2021-02-23T00:31:01.359052Z"
    },
    "papermill": {
     "duration": 0.022708,
     "end_time": "2021-02-23T00:31:01.359278",
     "exception": false,
     "start_time": "2021-02-23T00:31:01.336570",
     "status": "completed"
    },
    "tags": []
   },
   "outputs": [],
   "source": [
    "def ridge(train_x, train_y, test_x,\n",
    "                alpha=1.0, get_model=False, normalize=True):\n",
    "    # define model\n",
    "    model = Ridge(alpha=alpha, normalize=normalize)\n",
    "    model.fit(train_x, train_y)\n",
    "    if get_model:\n",
    "        return model\n",
    "    y_hat = model.predict(test_x)\n",
    "    return y_hat"
   ]
  },
  {
   "cell_type": "code",
   "execution_count": 10,
   "metadata": {
    "execution": {
     "iopub.execute_input": "2021-02-23T00:31:01.389470Z",
     "iopub.status.busy": "2021-02-23T00:31:01.388406Z",
     "iopub.status.idle": "2021-02-23T00:31:01.394199Z",
     "shell.execute_reply": "2021-02-23T00:31:01.394680Z"
    },
    "papermill": {
     "duration": 0.022812,
     "end_time": "2021-02-23T00:31:01.394916",
     "exception": false,
     "start_time": "2021-02-23T00:31:01.372104",
     "status": "completed"
    },
    "tags": []
   },
   "outputs": [],
   "source": [
    "def huber(train_x, train_y, test_x, test_y,\n",
    "                   epsilon=1.35, max_iter=1e3, normalize=True):\n",
    "        # define model\n",
    "    model = HuberRegressor(epsilon=epsilon, max_iter=max_iter)\n",
    "    model.fit(train_x, train_y)\n",
    "    y_hat = model.predict(test_x)\n",
    "    return y_hat"
   ]
  },
  {
   "cell_type": "code",
   "execution_count": 11,
   "metadata": {
    "execution": {
     "iopub.execute_input": "2021-02-23T00:31:01.424924Z",
     "iopub.status.busy": "2021-02-23T00:31:01.423876Z",
     "iopub.status.idle": "2021-02-23T00:31:01.760312Z",
     "shell.execute_reply": "2021-02-23T00:31:01.759662Z"
    },
    "papermill": {
     "duration": 0.352871,
     "end_time": "2021-02-23T00:31:01.760500",
     "exception": false,
     "start_time": "2021-02-23T00:31:01.407629",
     "status": "completed"
    },
    "tags": []
   },
   "outputs": [
    {
     "name": "stdout",
     "output_type": "stream",
     "text": [
      "data len 7438 ; index 0 ; number of data type 4\n",
      "data len 7438 ; index 1 ; number of data type 3\n"
     ]
    }
   ],
   "source": [
    "train_x, train_y, test_x, test_y = get_train_test(\"/kaggle/input/wustl-cse517a-sp21-milestone1/train.csv\", split_perc=0.2)\n",
    "# train_x_orig, train_y_orig, test_x_orig, test_y_orig = get_train_test(\"/kaggle/input/wustl-cse517a-sp21-milestone1/train.csv\", normalize=False)"
   ]
  },
  {
   "cell_type": "code",
   "execution_count": 12,
   "metadata": {
    "execution": {
     "iopub.execute_input": "2021-02-23T00:31:01.796330Z",
     "iopub.status.busy": "2021-02-23T00:31:01.794985Z",
     "iopub.status.idle": "2021-02-23T00:31:01.877864Z",
     "shell.execute_reply": "2021-02-23T00:31:01.878703Z"
    },
    "papermill": {
     "duration": 0.104354,
     "end_time": "2021-02-23T00:31:01.879039",
     "exception": false,
     "start_time": "2021-02-23T00:31:01.774685",
     "status": "completed"
    },
    "tags": []
   },
   "outputs": [],
   "source": [
    "losses = []\n",
    "reg_constants = [0.00005, 0.0001, 0.0005, 0.001, 0.005, 0.01, 0.05, 0.1, 0.2, 0.5, 0.75, 1.0, 1.25, 1.5, 2.0, 2.5, 3.0]\n",
    "for alpha in reg_constants:\n",
    "    losses.append(get_loss(ridge(train_x, train_y.ravel(), test_x, alpha=alpha), test_y.ravel()))"
   ]
  },
  {
   "cell_type": "code",
   "execution_count": 13,
   "metadata": {
    "execution": {
     "iopub.execute_input": "2021-02-23T00:31:01.939081Z",
     "iopub.status.busy": "2021-02-23T00:31:01.938006Z",
     "iopub.status.idle": "2021-02-23T00:31:02.317714Z",
     "shell.execute_reply": "2021-02-23T00:31:02.318227Z"
    },
    "papermill": {
     "duration": 0.412677,
     "end_time": "2021-02-23T00:31:02.318567",
     "exception": false,
     "start_time": "2021-02-23T00:31:01.905890",
     "status": "completed"
    },
    "tags": []
   },
   "outputs": [
    {
     "name": "stdout",
     "output_type": "stream",
     "text": [
      "min validation loss on data: 1086, with regularization constant 5e-05\n"
     ]
    },
    {
     "data": {
      "image/png": "[encoded data removed]",
      "text/plain": [
       "<Figure size 432x288 with 1 Axes>"
      ]
     },
     "metadata": {
      "needs_background": "light"
     },
     "output_type": "display_data"
    }
   ],
   "source": [
    "print(\"min validation loss on data: %.0f, with regularization constant %s\" % (np.min(losses), reg_constants[np.argmin(losses)]))\n",
    "fig = plt.figure()\n",
    "plt.bar([str(r) for r in reg_constants], losses)\n",
    "plt.xticks(rotation = 50)\n",
    "plt.show()"
   ]
  },
  {
   "cell_type": "code",
   "execution_count": 14,
   "metadata": {
    "execution": {
     "iopub.execute_input": "2021-02-23T00:31:02.356427Z",
     "iopub.status.busy": "2021-02-23T00:31:02.355053Z",
     "iopub.status.idle": "2021-02-23T00:31:03.124587Z",
     "shell.execute_reply": "2021-02-23T00:31:03.123932Z"
    },
    "papermill": {
     "duration": 0.790884,
     "end_time": "2021-02-23T00:31:03.124782",
     "exception": false,
     "start_time": "2021-02-23T00:31:02.333898",
     "status": "completed"
    },
    "tags": []
   },
   "outputs": [
    {
     "name": "stdout",
     "output_type": "stream",
     "text": [
      "data len 7438 ; index 0 ; number of data type 4\n",
      "data len 7438 ; index 1 ; number of data type 3\n",
      "data len 11157 ; index 0 ; number of data type 4\n",
      "data len 11157 ; index 1 ; number of data type 3\n"
     ]
    }
   ],
   "source": [
    "# normilization occurs in the sklearn model, so we'll skip it on the preprocessing\n",
    "# now we're training our final model to submit label predictions\n",
    "train_x, train_y = get_train_test(\"/kaggle/input/wustl-cse517a-sp21-milestone1/train.csv\", split=False)\n",
    "test_x = get_train_test(\"/kaggle/input/wustl-cse517a-sp21-milestone1/test.csv\", train=False)"
   ]
  },
  {
   "cell_type": "code",
   "execution_count": 15,
   "metadata": {
    "execution": {
     "iopub.execute_input": "2021-02-23T00:31:03.168332Z",
     "iopub.status.busy": "2021-02-23T00:31:03.167203Z",
     "iopub.status.idle": "2021-02-23T00:31:03.171845Z",
     "shell.execute_reply": "2021-02-23T00:31:03.172848Z"
    },
    "papermill": {
     "duration": 0.033143,
     "end_time": "2021-02-23T00:31:03.173157",
     "exception": false,
     "start_time": "2021-02-23T00:31:03.140014",
     "status": "completed"
    },
    "tags": []
   },
   "outputs": [],
   "source": [
    "test_model = ridge(train_x, train_y, None, get_model=True, alpha=0.00005)"
   ]
  },
  {
   "cell_type": "code",
   "execution_count": 16,
   "metadata": {
    "execution": {
     "iopub.execute_input": "2021-02-23T00:31:03.237092Z",
     "iopub.status.busy": "2021-02-23T00:31:03.235953Z",
     "iopub.status.idle": "2021-02-23T00:31:03.270234Z",
     "shell.execute_reply": "2021-02-23T00:31:03.271139Z"
    },
    "papermill": {
     "duration": 0.07038,
     "end_time": "2021-02-23T00:31:03.271460",
     "exception": false,
     "start_time": "2021-02-23T00:31:03.201080",
     "status": "completed"
    },
    "tags": []
   },
   "outputs": [],
   "source": [
    "test_preds = test_model.predict(test_x).ravel()\n",
    "test_ids = pd.read_csv(\"/kaggle/input/wustl-cse517a-sp21-milestone1/test.csv\")[\"ID\"]\n",
    "test_submission = pd.DataFrame({\n",
    "    \"ID\" : test_ids,\n",
    "    \"Horizontal_Distance_To_Fire_Points\" : test_preds\n",
    "})"
   ]
  },
  {
   "cell_type": "code",
   "execution_count": 17,
   "metadata": {
    "execution": {
     "iopub.execute_input": "2021-02-23T00:31:03.336782Z",
     "iopub.status.busy": "2021-02-23T00:31:03.335693Z",
     "iopub.status.idle": "2021-02-23T00:31:03.395793Z",
     "shell.execute_reply": "2021-02-23T00:31:03.396344Z"
    },
    "papermill": {
     "duration": 0.094767,
     "end_time": "2021-02-23T00:31:03.396592",
     "exception": false,
     "start_time": "2021-02-23T00:31:03.301825",
     "status": "completed"
    },
    "tags": []
   },
   "outputs": [],
   "source": [
    "test_submission.to_csv('submission_v3.csv', index=False)"
   ]
  }
 ],
 "metadata": {
  "kernelspec": {
   "display_name": "Python 3",
   "language": "python",
   "name": "python3"
  },
  "language_info": {
   "codemirror_mode": {
    "name": "ipython",
    "version": 3
   },
   "file_extension": ".py",
   "mimetype": "text/x-python",
   "name": "python",
   "nbconvert_exporter": "python",
   "pygments_lexer": "ipython3",
   "version": "3.7.9"
  },
  "papermill": {
   "default_parameters": {},
   "duration": 11.210701,
   "end_time": "2021-02-23T00:31:04.024556",
   "environment_variables": {},
   "exception": null,
   "input_path": "__notebook__.ipynb",
   "output_path": "__notebook__.ipynb",
   "parameters": {},
   "start_time": "2021-02-23T00:30:52.813855",
   "version": "2.2.2"
  }
 },
 "nbformat": 4,
 "nbformat_minor": 4
}
