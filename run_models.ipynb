{
 "cells": [
  {
   "cell_type": "code",
   "execution_count": 1,
   "metadata": {
    "_cell_guid": "b1076dfc-b9ad-4769-8c92-a6c4dae69d19",
    "_uuid": "8f2839f25d086af736a60e9eeb907d3b93b6e0e5",
    "execution": {
     "iopub.execute_input": "2021-02-22T02:44:50.323092Z",
     "iopub.status.busy": "2021-02-22T02:44:50.322103Z",
     "iopub.status.idle": "2021-02-22T02:44:50.324724Z",
     "shell.execute_reply": "2021-02-22T02:44:50.325171Z"
    },
    "papermill": {
     "duration": 0.021656,
     "end_time": "2021-02-22T02:44:50.325481",
     "exception": false,
     "start_time": "2021-02-22T02:44:50.303825",
     "status": "completed"
    },
    "tags": []
   },
   "outputs": [],
   "source": [
    "# nitanshalon, nitanshalon@wustl.edu, Shalon, Nitan\n",
    "# k.sherman, k.sherman@wustl.edu, Sherman, Kenneth\n",
    "# choij, jdc6@wustl.edu, Choi, Jason\n",
    "# jdecavel-bueff, d.jonathan@wustl.edu, Decavel-Bueff, Jonathan"
   ]
  },
  {
   "cell_type": "code",
   "execution_count": 2,
   "metadata": {
    "execution": {
     "iopub.execute_input": "2021-02-22T02:44:50.354176Z",
     "iopub.status.busy": "2021-02-22T02:44:50.353182Z",
     "iopub.status.idle": "2021-02-22T02:44:51.442560Z",
     "shell.execute_reply": "2021-02-22T02:44:51.443159Z"
    },
    "papermill": {
     "duration": 1.105263,
     "end_time": "2021-02-22T02:44:51.443342",
     "exception": false,
     "start_time": "2021-02-22T02:44:50.338079",
     "status": "completed"
    },
    "tags": []
   },
   "outputs": [],
   "source": [
    "import pandas as pd\n",
    "import numpy as np\n",
    "from sklearn import preprocessing\n",
    "from sklearn.linear_model import HuberRegressor\n",
    "from sklearn.linear_model import Ridge\n",
    "import random\n",
    "import matplotlib.pyplot as plt"
   ]
  },
  {
   "cell_type": "code",
   "execution_count": 3,
   "metadata": {
    "execution": {
     "iopub.execute_input": "2021-02-22T02:44:51.472152Z",
     "iopub.status.busy": "2021-02-22T02:44:51.471468Z",
     "iopub.status.idle": "2021-02-22T02:44:51.481193Z",
     "shell.execute_reply": "2021-02-22T02:44:51.480442Z"
    },
    "papermill": {
     "duration": 0.025281,
     "end_time": "2021-02-22T02:44:51.481353",
     "exception": false,
     "start_time": "2021-02-22T02:44:51.456072",
     "status": "completed"
    },
    "tags": []
   },
   "outputs": [],
   "source": [
    "def get_train_test(path, split_perc=0.25, label_col=\"Horizontal_Distance_To_Fire_Points\", id_col=\"ID\", \n",
    "                   categorical=\"Soil_Type\", normalize=True, train=True, split=True):\n",
    "    data = pd.read_csv(path) # read in data\n",
    "    data = data.drop([id_col], axis=1) # drop the id column in the training so that it's not a feature\n",
    "    soil_type_transform = onehot_encode(data[categorical]) # one-hot encode the only categorical feature in the data\n",
    "    if train: # only extract labels if we're on a training set\n",
    "        data_labels = data[[label_col]].to_numpy() # extract labels\n",
    "        drop_cols = [categorical, label_col] # columns to drop if on train set\n",
    "    else:\n",
    "        data_labels = np.zeros((1,)) # create empty labels... just cuz'\n",
    "        drop_cols = [categorical] # columns to drop if on test set\n",
    "    data = data.drop(drop_cols, axis=1) # drop the categorical and labels so we can normalize the data\n",
    "    \n",
    "    if normalize:\n",
    "        data = normalize_data(data)\n",
    "        \n",
    "    data = append_to_data(data, soil_type_transform) # return the augmented df with the one-hot encoding for soil type\n",
    "    \n",
    "    if train and split:\n",
    "        return split_data(data.values, data_labels, split_perc) # if training (validating) then split the data\n",
    "    elif not split:\n",
    "        return data.values, data_labels # if training but getting the model to test, then don't split so we can use all the data to train\n",
    "    else:\n",
    "        return data.values # if testing then don't split the data and just return features"
   ]
  },
  {
   "cell_type": "code",
   "execution_count": 4,
   "metadata": {
    "execution": {
     "iopub.execute_input": "2021-02-22T02:44:51.513248Z",
     "iopub.status.busy": "2021-02-22T02:44:51.512230Z",
     "iopub.status.idle": "2021-02-22T02:44:51.515275Z",
     "shell.execute_reply": "2021-02-22T02:44:51.514759Z"
    },
    "papermill": {
     "duration": 0.021156,
     "end_time": "2021-02-22T02:44:51.515437",
     "exception": false,
     "start_time": "2021-02-22T02:44:51.494281",
     "status": "completed"
    },
    "tags": []
   },
   "outputs": [],
   "source": [
    "def normalize_data(data):\n",
    "    scaler = preprocessing.MinMaxScaler()\n",
    "    return pd.DataFrame(scaler.fit_transform(data.to_numpy()))"
   ]
  },
  {
   "cell_type": "code",
   "execution_count": 5,
   "metadata": {
    "execution": {
     "iopub.execute_input": "2021-02-22T02:44:51.550036Z",
     "iopub.status.busy": "2021-02-22T02:44:51.549271Z",
     "iopub.status.idle": "2021-02-22T02:44:51.552452Z",
     "shell.execute_reply": "2021-02-22T02:44:51.551934Z"
    },
    "papermill": {
     "duration": 0.024407,
     "end_time": "2021-02-22T02:44:51.552609",
     "exception": false,
     "start_time": "2021-02-22T02:44:51.528202",
     "status": "completed"
    },
    "tags": []
   },
   "outputs": [],
   "source": [
    "def onehot_encode(data, id_pos_1=1, id_pos_2=2):\n",
    "    soil_types = set() # set of unique soil types based on first two ints of the soil_type column\n",
    "    for ele in data:\n",
    "        soil_types.add(str(ele)[:2])\n",
    "    soil_types_arr = np.array(list(soil_types))\n",
    "    print(\"data len %s ; number of soiltypes %s\" % (len(data), len(soil_types)))\n",
    "    onehots = np.zeros(shape=(len(data), len(soil_types))) # initialize the one-hot encoding for the soil type as a matrix of zeroes\n",
    "    for data_ind, val in enumerate(data): # iterate through the data\n",
    "        soil_type_ind = np.argwhere(soil_types_arr == str(val)[:2]) # match the data soiltype to the soil index in the feature array\n",
    "        onehots[data_ind, soil_type_ind] = 1 # change the position of the corresponding soil type to a 1 for the specific data point \n",
    "    return onehots"
   ]
  },
  {
   "cell_type": "code",
   "execution_count": 6,
   "metadata": {
    "execution": {
     "iopub.execute_input": "2021-02-22T02:44:51.584202Z",
     "iopub.status.busy": "2021-02-22T02:44:51.583564Z",
     "iopub.status.idle": "2021-02-22T02:44:51.586911Z",
     "shell.execute_reply": "2021-02-22T02:44:51.586250Z"
    },
    "papermill": {
     "duration": 0.021644,
     "end_time": "2021-02-22T02:44:51.587056",
     "exception": false,
     "start_time": "2021-02-22T02:44:51.565412",
     "status": "completed"
    },
    "tags": []
   },
   "outputs": [],
   "source": [
    "def append_to_data(data, onehots):\n",
    "    for soiltype in range(onehots.shape[1]):\n",
    "        soiltype_colname = \"soiltype=%s\" % (soiltype)\n",
    "        data[soiltype_colname] = onehots[:, soiltype]\n",
    "    return data"
   ]
  },
  {
   "cell_type": "code",
   "execution_count": 7,
   "metadata": {
    "execution": {
     "iopub.execute_input": "2021-02-22T02:44:51.621488Z",
     "iopub.status.busy": "2021-02-22T02:44:51.620566Z",
     "iopub.status.idle": "2021-02-22T02:44:51.623611Z",
     "shell.execute_reply": "2021-02-22T02:44:51.623072Z"
    },
    "papermill": {
     "duration": 0.023537,
     "end_time": "2021-02-22T02:44:51.623751",
     "exception": false,
     "start_time": "2021-02-22T02:44:51.600214",
     "status": "completed"
    },
    "tags": []
   },
   "outputs": [],
   "source": [
    "def split_data(x, y, split_perc):\n",
    "    n = x.shape[0]\n",
    "    num_test = int(split_perc * n)\n",
    "    test_inds = list(np.random.choice(np.arange(n), num_test))\n",
    "    train_inds = np.random.choice(np.arange(n), num_test)\n",
    "    test_inds = np.setdiff1d(np.arange(n), test_inds)\n",
    "    train_x = x[train_inds, :]\n",
    "    train_y = np.reshape(y[train_inds], (len(train_inds),))\n",
    "    test_x = x[test_inds, :]\n",
    "    test_y = np.reshape(y[test_inds], (len(test_inds),))\n",
    "    \n",
    "    return train_x, train_y, test_x, test_y"
   ]
  },
  {
   "cell_type": "code",
   "execution_count": 8,
   "metadata": {
    "execution": {
     "iopub.execute_input": "2021-02-22T02:44:51.656241Z",
     "iopub.status.busy": "2021-02-22T02:44:51.655248Z",
     "iopub.status.idle": "2021-02-22T02:44:51.658643Z",
     "shell.execute_reply": "2021-02-22T02:44:51.657993Z"
    },
    "papermill": {
     "duration": 0.021865,
     "end_time": "2021-02-22T02:44:51.658788",
     "exception": false,
     "start_time": "2021-02-22T02:44:51.636923",
     "status": "completed"
    },
    "tags": []
   },
   "outputs": [],
   "source": [
    "def get_loss(y_hat, y):\n",
    "    return (np.linalg.norm(np.array(y_hat) - np.array(y)) ** 2) / len(y)"
   ]
  },
  {
   "cell_type": "code",
   "execution_count": 9,
   "metadata": {
    "execution": {
     "iopub.execute_input": "2021-02-22T02:44:51.692061Z",
     "iopub.status.busy": "2021-02-22T02:44:51.691135Z",
     "iopub.status.idle": "2021-02-22T02:44:51.694625Z",
     "shell.execute_reply": "2021-02-22T02:44:51.694005Z"
    },
    "papermill": {
     "duration": 0.022625,
     "end_time": "2021-02-22T02:44:51.694769",
     "exception": false,
     "start_time": "2021-02-22T02:44:51.672144",
     "status": "completed"
    },
    "tags": []
   },
   "outputs": [],
   "source": [
    "def ridge(train_x, train_y, test_x,\n",
    "                alpha=1.0, get_model=False, normalize=True):\n",
    "    # define model\n",
    "    model = Ridge(alpha=alpha, normalize=normalize)\n",
    "    model.fit(train_x, train_y)\n",
    "    if get_model:\n",
    "        return model\n",
    "    y_hat = model.predict(test_x)\n",
    "    return y_hat"
   ]
  },
  {
   "cell_type": "code",
   "execution_count": 10,
   "metadata": {
    "execution": {
     "iopub.execute_input": "2021-02-22T02:44:51.728006Z",
     "iopub.status.busy": "2021-02-22T02:44:51.727160Z",
     "iopub.status.idle": "2021-02-22T02:44:51.729595Z",
     "shell.execute_reply": "2021-02-22T02:44:51.730084Z"
    },
    "papermill": {
     "duration": 0.022054,
     "end_time": "2021-02-22T02:44:51.730255",
     "exception": false,
     "start_time": "2021-02-22T02:44:51.708201",
     "status": "completed"
    },
    "tags": []
   },
   "outputs": [],
   "source": [
    "def huber(train_x, train_y, test_x, test_y,\n",
    "                   epsilon=1.35, max_iter=1e3, normalize=True):\n",
    "        # define model\n",
    "    model = HuberRegressor(epsilon=epsilon, max_iter=max_iter)\n",
    "    model.fit(train_x, train_y)\n",
    "    y_hat = model.predict(test_x)\n",
    "    return y_hat"
   ]
  },
  {
   "cell_type": "code",
   "execution_count": 11,
   "metadata": {
    "execution": {
     "iopub.execute_input": "2021-02-22T02:44:51.763137Z",
     "iopub.status.busy": "2021-02-22T02:44:51.762420Z",
     "iopub.status.idle": "2021-02-22T02:44:52.122212Z",
     "shell.execute_reply": "2021-02-22T02:44:52.122908Z"
    },
    "papermill": {
     "duration": 0.379033,
     "end_time": "2021-02-22T02:44:52.123087",
     "exception": false,
     "start_time": "2021-02-22T02:44:51.744054",
     "status": "completed"
    },
    "tags": []
   },
   "outputs": [
    {
     "name": "stdout",
     "output_type": "stream",
     "text": [
      "data len 7438 ; number of soiltypes 6\n",
      "data len 7438 ; number of soiltypes 6\n"
     ]
    }
   ],
   "source": [
    "train_x, train_y, test_x, test_y = get_train_test(\"/kaggle/input/wustl-cse517a-sp21-milestone1/train.csv\")\n",
    "train_x_orig, train_y_orig, test_x_orig, test_y_orig = get_train_test(\"/kaggle/input/wustl-cse517a-sp21-milestone1/train.csv\", normalize=False)"
   ]
  },
  {
   "cell_type": "code",
   "execution_count": 12,
   "metadata": {
    "execution": {
     "iopub.execute_input": "2021-02-22T02:44:52.159894Z",
     "iopub.status.busy": "2021-02-22T02:44:52.159197Z",
     "iopub.status.idle": "2021-02-22T02:44:52.212791Z",
     "shell.execute_reply": "2021-02-22T02:44:52.213701Z"
    },
    "papermill": {
     "duration": 0.0753,
     "end_time": "2021-02-22T02:44:52.214002",
     "exception": false,
     "start_time": "2021-02-22T02:44:52.138702",
     "status": "completed"
    },
    "tags": []
   },
   "outputs": [],
   "source": [
    "normalized_losses = []\n",
    "reg_constants = [0.0001, 0.0005, 0.001, 0.005, 0.01, 0.05, 0.1, 0.2, 0.5, 0.75, 1.0, 1.25, 1.5, 2.0, 2.5, 3.0]\n",
    "for alpha in reg_constants:\n",
    "    normalized_losses.append(get_loss(ridge(train_x, train_y.ravel(), test_x, alpha=alpha), test_y.ravel()))"
   ]
  },
  {
   "cell_type": "code",
   "execution_count": 13,
   "metadata": {
    "execution": {
     "iopub.execute_input": "2021-02-22T02:44:52.286763Z",
     "iopub.status.busy": "2021-02-22T02:44:52.285757Z",
     "iopub.status.idle": "2021-02-22T02:44:52.641048Z",
     "shell.execute_reply": "2021-02-22T02:44:52.641499Z"
    },
    "papermill": {
     "duration": 0.401922,
     "end_time": "2021-02-22T02:44:52.641690",
     "exception": false,
     "start_time": "2021-02-22T02:44:52.239768",
     "status": "completed"
    },
    "tags": []
   },
   "outputs": [
    {
     "name": "stdout",
     "output_type": "stream",
     "text": [
      "min validation loss on normalized data 1168209 with regularization constant 0.0001\n"
     ]
    },
    {
     "data": {
      "image/png": "[encoded data removed]",
      "text/plain": [
       "<Figure size 432x288 with 1 Axes>"
      ]
     },
     "metadata": {
      "needs_background": "light"
     },
     "output_type": "display_data"
    }
   ],
   "source": [
    "print(\"min validation loss on normalized data %.0f with regularization constant %s\" % (np.min(normalized_losses), reg_constants[np.argmin(normalized_losses)]))\n",
    "fig = plt.figure()\n",
    "plt.bar([str(r) for r in reg_constants], normalized_losses)\n",
    "plt.xticks(rotation = 50)\n",
    "plt.show()"
   ]
  },
  {
   "cell_type": "code",
   "execution_count": 14,
   "metadata": {
    "execution": {
     "iopub.execute_input": "2021-02-22T02:44:52.676051Z",
     "iopub.status.busy": "2021-02-22T02:44:52.675274Z",
     "iopub.status.idle": "2021-02-22T02:44:52.718091Z",
     "shell.execute_reply": "2021-02-22T02:44:52.718658Z"
    },
    "papermill": {
     "duration": 0.061726,
     "end_time": "2021-02-22T02:44:52.718843",
     "exception": false,
     "start_time": "2021-02-22T02:44:52.657117",
     "status": "completed"
    },
    "tags": []
   },
   "outputs": [],
   "source": [
    "losses = []\n",
    "for alpha in reg_constants:\n",
    "    losses.append(get_loss(ridge(train_x_orig, train_y_orig.ravel(), test_x_orig, alpha=alpha), test_y_orig.ravel()))"
   ]
  },
  {
   "cell_type": "code",
   "execution_count": 15,
   "metadata": {
    "execution": {
     "iopub.execute_input": "2021-02-22T02:44:52.803655Z",
     "iopub.status.busy": "2021-02-22T02:44:52.799488Z",
     "iopub.status.idle": "2021-02-22T02:44:53.020010Z",
     "shell.execute_reply": "2021-02-22T02:44:53.020886Z"
    },
    "papermill": {
     "duration": 0.286045,
     "end_time": "2021-02-22T02:44:53.021189",
     "exception": false,
     "start_time": "2021-02-22T02:44:52.735144",
     "status": "completed"
    },
    "tags": []
   },
   "outputs": [
    {
     "name": "stdout",
     "output_type": "stream",
     "text": [
      "min validation loss on unnormalized data 1185568 with regularization constant 0.001\n"
     ]
    },
    {
     "data": {
      "image/png": "[encoded data removed]",
      "text/plain": [
       "<Figure size 432x288 with 1 Axes>"
      ]
     },
     "metadata": {
      "needs_background": "light"
     },
     "output_type": "display_data"
    }
   ],
   "source": [
    "print(\"min validation loss on unnormalized data %.0f with regularization constant %s\" % (np.min(losses), reg_constants[np.argmin(losses)]))\n",
    "fig = plt.figure()\n",
    "plt.bar([str(r) for r in reg_constants], losses)\n",
    "plt.xticks(rotation = 50)\n",
    "plt.show()"
   ]
  },
  {
   "cell_type": "code",
   "execution_count": 16,
   "metadata": {
    "execution": {
     "iopub.execute_input": "2021-02-22T02:44:53.064582Z",
     "iopub.status.busy": "2021-02-22T02:44:53.063618Z",
     "iopub.status.idle": "2021-02-22T02:44:53.484258Z",
     "shell.execute_reply": "2021-02-22T02:44:53.484874Z"
    },
    "papermill": {
     "duration": 0.4447,
     "end_time": "2021-02-22T02:44:53.485070",
     "exception": false,
     "start_time": "2021-02-22T02:44:53.040370",
     "status": "completed"
    },
    "tags": []
   },
   "outputs": [
    {
     "name": "stdout",
     "output_type": "stream",
     "text": [
      "data len 7438 ; number of soiltypes 6\n",
      "data len 11157 ; number of soiltypes 7\n"
     ]
    }
   ],
   "source": [
    "# normilization doesn't really seem to help... but we'll go with it\n",
    "# now we're training our final model to submit label predictions\n",
    "train_x, train_y = get_train_test(\"/kaggle/input/wustl-cse517a-sp21-milestone1/train.csv\", split=False)\n",
    "test_x = get_train_test(\"/kaggle/input/wustl-cse517a-sp21-milestone1/test.csv\", train=False)\n",
    "test_x = np.delete(test_x, test_x.shape[1] - 1, 1) # delete the 7th soil type column, not sure why the training set has 6 soiltypes and the test set has 7"
   ]
  },
  {
   "cell_type": "code",
   "execution_count": 17,
   "metadata": {
    "execution": {
     "iopub.execute_input": "2021-02-22T02:44:53.524657Z",
     "iopub.status.busy": "2021-02-22T02:44:53.523982Z",
     "iopub.status.idle": "2021-02-22T02:44:53.533948Z",
     "shell.execute_reply": "2021-02-22T02:44:53.534843Z"
    },
    "papermill": {
     "duration": 0.031853,
     "end_time": "2021-02-22T02:44:53.535119",
     "exception": false,
     "start_time": "2021-02-22T02:44:53.503266",
     "status": "completed"
    },
    "tags": []
   },
   "outputs": [],
   "source": [
    "test_model = ridge(train_x, train_y, None, get_model=True)"
   ]
  },
  {
   "cell_type": "code",
   "execution_count": 18,
   "metadata": {
    "execution": {
     "iopub.execute_input": "2021-02-22T02:44:53.604347Z",
     "iopub.status.busy": "2021-02-22T02:44:53.603292Z",
     "iopub.status.idle": "2021-02-22T02:44:53.638419Z",
     "shell.execute_reply": "2021-02-22T02:44:53.639466Z"
    },
    "papermill": {
     "duration": 0.074203,
     "end_time": "2021-02-22T02:44:53.639797",
     "exception": false,
     "start_time": "2021-02-22T02:44:53.565594",
     "status": "completed"
    },
    "tags": []
   },
   "outputs": [],
   "source": [
    "test_preds = test_model.predict(test_x).ravel()\n",
    "test_ids = pd.read_csv(\"/kaggle/input/wustl-cse517a-sp21-milestone1/test.csv\")[\"ID\"]\n",
    "test_submission = pd.DataFrame({\n",
    "    \"ID\" : test_ids,\n",
    "    \"Horizontal_Distance_To_Fire_Points\" : test_preds\n",
    "})"
   ]
  },
  {
   "cell_type": "code",
   "execution_count": 19,
   "metadata": {
    "execution": {
     "iopub.execute_input": "2021-02-22T02:44:53.711983Z",
     "iopub.status.busy": "2021-02-22T02:44:53.710912Z",
     "iopub.status.idle": "2021-02-22T02:44:53.767638Z",
     "shell.execute_reply": "2021-02-22T02:44:53.768265Z"
    },
    "papermill": {
     "duration": 0.096468,
     "end_time": "2021-02-22T02:44:53.768441",
     "exception": false,
     "start_time": "2021-02-22T02:44:53.671973",
     "status": "completed"
    },
    "tags": []
   },
   "outputs": [],
   "source": [
    "test_submission.to_csv('submission.csv', index=False)"
   ]
  }
 ],
 "metadata": {
  "kernelspec": {
   "display_name": "Python 3",
   "language": "python",
   "name": "python3"
  },
  "language_info": {
   "codemirror_mode": {
    "name": "ipython",
    "version": 3
   },
   "file_extension": ".py",
   "mimetype": "text/x-python",
   "name": "python",
   "nbconvert_exporter": "python",
   "pygments_lexer": "ipython3",
   "version": "3.7.9"
  },
  "papermill": {
   "default_parameters": {},
   "duration": 10.11113,
   "end_time": "2021-02-22T02:44:54.394996",
   "environment_variables": {},
   "exception": null,
   "input_path": "__notebook__.ipynb",
   "output_path": "__notebook__.ipynb",
   "parameters": {},
   "start_time": "2021-02-22T02:44:44.283866",
   "version": "2.2.2"
  }
 },
 "nbformat": 4,
 "nbformat_minor": 4
}
