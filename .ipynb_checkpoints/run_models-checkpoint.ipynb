{
 "cells": [
  {
   "cell_type": "code",
   "execution_count": 3,
   "metadata": {
    "_cell_guid": "b1076dfc-b9ad-4769-8c92-a6c4dae69d19",
    "_uuid": "8f2839f25d086af736a60e9eeb907d3b93b6e0e5"
   },
   "outputs": [],
   "source": [
    "# nitanshalon, nitanshalon@wustl.edu, Shalon, Nitan\n",
    "# k.sherman, k.sherman@wustl.edu, Sherman, Kenneth"
   ]
  },
  {
   "cell_type": "code",
   "execution_count": 239,
   "metadata": {},
   "outputs": [],
   "source": [
    "import pandas as pd\n",
    "import numpy as np\n",
    "from sklearn import preprocessing\n",
    "from sklearn.linear_model import HuberRegressor\n",
    "from sklearn.linear_model import Ridge\n",
    "import random\n",
    "import matplotlib.pyplot as plt"
   ]
  },
  {
   "cell_type": "code",
   "execution_count": 336,
   "metadata": {},
   "outputs": [],
   "source": [
    "def get_train_test(path, split_perc=0.25, label_col=\"Horizontal_Distance_To_Fire_Points\", id_col=\"ID\", \n",
    "                   categorical=\"Soil_Type\", normalize=True, train=True, split=True):\n",
    "    data = pd.read_csv(path) # read in data\n",
    "    data = data.drop([id_col], axis=1) # drop the id column in the training so that it's not a feature\n",
    "    soil_type_transform = onehot_encode(data[categorical]) # one-hot encode the only categorical feature in the data\n",
    "    if train: # only extract labels if we're on a training set\n",
    "        data_labels = data[[label_col]].to_numpy() # extract labels\n",
    "        drop_cols = [categorical, label_col] # columns to drop if on train set\n",
    "    else:\n",
    "        data_labels = np.zeros((1,)) # create empty labels... just cuz'\n",
    "        drop_cols = [categorical] # columns to drop if on test set\n",
    "    data = data.drop(drop_cols, axis=1) # drop the categorical and labels so we can normalize the data\n",
    "    \n",
    "    if normalize:\n",
    "        data = normalize_data(data)\n",
    "        \n",
    "    data = append_to_data(data, soil_type_transform) # return the augmented df with the one-hot encoding for soil type\n",
    "    \n",
    "    if train and split:\n",
    "        return split_data(data.values, data_labels, split_perc) # if training (validating) then split the data\n",
    "    elif not split:\n",
    "        return data.values, data_labels # if training but getting the model to test, then don't split so we can use all the data to train\n",
    "    else:\n",
    "        return data.values # if testing then don't split the data and just return features"
   ]
  },
  {
   "cell_type": "code",
   "execution_count": 337,
   "metadata": {},
   "outputs": [],
   "source": [
    "def normalize_data(data):\n",
    "    scaler = preprocessing.MinMaxScaler()\n",
    "    return pd.DataFrame(scaler.fit_transform(data.to_numpy()))"
   ]
  },
  {
   "cell_type": "code",
   "execution_count": 338,
   "metadata": {},
   "outputs": [],
   "source": [
    "def onehot_encode(data, id_pos_1=1, id_pos_2=2):\n",
    "    soil_types = set() # set of unique soil types based on first two ints of the soil_type column\n",
    "    for ele in data:\n",
    "        soil_types.add(str(ele)[:2])\n",
    "    soil_types_arr = np.array(list(soil_types))\n",
    "    print(\"data len %s ; number of soiltypes %s\" % (len(data), len(soil_types)))\n",
    "    onehots = np.zeros(shape=(len(data), len(soil_types))) # initialize the one-hot encoding for the soil type as a matrix of zeroes\n",
    "    for data_ind, val in enumerate(data): # iterate through the data\n",
    "        soil_type_ind = np.argwhere(soil_types_arr == str(val)[:2]) # match the data soiltype to the soil index in the feature array\n",
    "        onehots[data_ind, soil_type_ind] = 1 # change the position of the corresponding soil type to a 1 for the specific data point \n",
    "    return onehots"
   ]
  },
  {
   "cell_type": "code",
   "execution_count": 339,
   "metadata": {},
   "outputs": [],
   "source": [
    "def append_to_data(data, onehots):\n",
    "    for soiltype in range(onehots.shape[1]):\n",
    "        soiltype_colname = \"soiltype=%s\" % (soiltype)\n",
    "        data[soiltype_colname] = onehots[:, soiltype]\n",
    "    return data"
   ]
  },
  {
   "cell_type": "code",
   "execution_count": 340,
   "metadata": {},
   "outputs": [],
   "source": [
    "def split_data(x, y, split_perc):\n",
    "    n = x.shape[0]\n",
    "    num_test = int(split_perc * n)\n",
    "    test_inds = list(np.random.choice(np.arange(n), num_test))\n",
    "    train_inds = np.random.choice(np.arange(n), num_test)\n",
    "    test_inds = np.setdiff1d(np.arange(n), test_inds)\n",
    "    train_x = x[train_inds, :]\n",
    "    train_y = np.reshape(y[train_inds], (len(train_inds),))\n",
    "    test_x = x[test_inds, :]\n",
    "    test_y = np.reshape(y[test_inds], (len(test_inds),))\n",
    "    \n",
    "    return train_x, train_y, test_x, test_y"
   ]
  },
  {
   "cell_type": "code",
   "execution_count": 341,
   "metadata": {},
   "outputs": [],
   "source": [
    "def get_loss(y_hat, y):\n",
    "    return (np.linalg.norm(np.array(y_hat) - np.array(y)) ** 2) / len(y)"
   ]
  },
  {
   "cell_type": "code",
   "execution_count": 342,
   "metadata": {},
   "outputs": [],
   "source": [
    "def ridge(train_x, train_y, test_x,\n",
    "                alpha=1.0, get_mode):\n",
    "    # define model\n",
    "    model = Ridge(alpha=alpha, normalize=normalize)\n",
    "    model.fit(train_x, train_y)\n",
    "    y_hat = model.predict(test_x)\n",
    "    return y_hat"
   ]
  },
  {
   "cell_type": "code",
   "execution_count": 343,
   "metadata": {},
   "outputs": [],
   "source": [
    "def huber(train_x, train_y, test_x, test_y,\n",
    "                   epsilon=1.35, max_iter=1e3, normalize=True):\n",
    "        # define model\n",
    "    model = HuberRegressor(epsilon=epsilon, max_iter=max_iter)\n",
    "    model.fit(train_x, train_y)\n",
    "    y_hat = model.predict(test_x)\n",
    "    return y_hat"
   ]
  },
  {
   "cell_type": "code",
   "execution_count": 344,
   "metadata": {},
   "outputs": [
    {
     "name": "stdout",
     "output_type": "stream",
     "text": [
      "data len 7438 ; number of soiltypes 6\n",
      "data len 7438 ; number of soiltypes 6\n"
     ]
    }
   ],
   "source": [
    "train_x, train_y, test_x, test_y = get_train_test(\"/kaggle/input/wustl-cse517a-sp21-milestone1/train.csv\")\n",
    "train_x_orig, train_y_orig, test_x_orig, test_y_orig = get_train_test(\"/kaggle/input/wustl-cse517a-sp21-milestone1/train.csv\", normalize=False)"
   ]
  },
  {
   "cell_type": "code",
   "execution_count": 345,
   "metadata": {},
   "outputs": [],
   "source": [
    "normalized_losses = []\n",
    "reg_constants = [0.0001, 0.0005, 0.001, 0.005, 0.01, 0.05, 0.1, 0.2, 0.5, 0.75, 1.0, 1.25, 1.5, 2.0, 2.5, 3.0]\n",
    "for alpha in reg_constants:\n",
    "    normalized_losses.append(get_loss(ridge(train_x, train_y.ravel(), test_x, alpha=alpha), test_y.ravel()))"
   ]
  },
  {
   "cell_type": "code",
   "execution_count": 346,
   "metadata": {},
   "outputs": [
    {
     "name": "stdout",
     "output_type": "stream",
     "text": [
      "min validation loss on normalized data 1194993 with regularization constant 0.0005\n"
     ]
    },
    {
     "data": {
      "image/png": "[encoded data removed]",
      "text/plain": [
       "<Figure size 432x288 with 1 Axes>"
      ]
     },
     "metadata": {
      "needs_background": "light"
     },
     "output_type": "display_data"
    }
   ],
   "source": [
    "print(\"min validation loss on normalized data %.0f with regularization constant %s\" % (np.min(losses), reg_constants[np.argmin(normalized_losses)]))\n",
    "fig = plt.figure()\n",
    "plt.bar([str(r) for r in reg_constants], normalized_losses)\n",
    "plt.xticks(rotation = 50)\n",
    "plt.show()"
   ]
  },
  {
   "cell_type": "code",
   "execution_count": 347,
   "metadata": {},
   "outputs": [],
   "source": [
    "losses = []\n",
    "for alpha in reg_constants:\n",
    "    losses.append(get_loss(ridge(train_x_orig, train_y_orig.ravel(), test_x_orig, alpha=alpha), test_y_orig.ravel()))"
   ]
  },
  {
   "cell_type": "code",
   "execution_count": 348,
   "metadata": {},
   "outputs": [
    {
     "name": "stdout",
     "output_type": "stream",
     "text": [
      "min validation loss on unnormalized data 1195041 with regularization constant 0.0001\n"
     ]
    },
    {
     "data": {
      "image/png": "[encoded data removed]",
      "text/plain": [
       "<Figure size 432x288 with 1 Axes>"
      ]
     },
     "metadata": {
      "needs_background": "light"
     },
     "output_type": "display_data"
    }
   ],
   "source": [
    "print(\"min validation loss on unnormalized data %.0f with regularization constant %s\" % (np.min(losses), reg_constants[np.argmin(losses)]))\n",
    "fig = plt.figure()\n",
    "plt.bar([str(r) for r in reg_constants], losses)\n",
    "plt.xticks(rotation = 50)\n",
    "plt.show()"
   ]
  },
  {
   "cell_type": "code",
   "execution_count": 351,
   "metadata": {},
   "outputs": [
    {
     "name": "stdout",
     "output_type": "stream",
     "text": [
      "data len 7438 ; number of soiltypes 6\n"
     ]
    }
   ],
   "source": [
    "# normilization doesn't really seem to help... but we'll go with it\n",
    "# now we're training our final model to submit label predictions\n",
    "train_x, train_y = get_train_test(\"/kaggle/input/wustl-cse517a-sp21-milestone1/train.csv\", split=False)"
   ]
  },
  {
   "cell_type": "code",
   "execution_count": null,
   "metadata": {},
   "outputs": [],
   "source": []
  }
 ],
 "metadata": {
  "kernelspec": {
   "display_name": "Python 3",
   "language": "python",
   "name": "python3"
  },
  "language_info": {
   "codemirror_mode": {
    "name": "ipython",
    "version": 3
   },
   "file_extension": ".py",
   "mimetype": "text/x-python",
   "name": "python",
   "nbconvert_exporter": "python",
   "pygments_lexer": "ipython3",
   "version": "3.6.12"
  }
 },
 "nbformat": 4,
 "nbformat_minor": 4
}
